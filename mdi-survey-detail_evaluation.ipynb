{
 "cells": [
  {
   "cell_type": "code",
   "execution_count": 1,
   "metadata": {},
   "outputs": [],
   "source": [
    "import numpy as np\n",
    "import pandas as pd\n",
    "import matplotlib.pyplot as plt\n",
    "import seaborn as sns"
   ]
  },
  {
   "cell_type": "code",
   "execution_count": 42,
   "metadata": {},
   "outputs": [],
   "source": [
    "df = pd.read_csv(\"Umfrage-Ermittlung_Kundenprofil.csv\")"
   ]
  },
  {
   "cell_type": "code",
   "execution_count": 3,
   "metadata": {},
   "outputs": [
    {
     "data": {
      "text/html": [
       "<div>\n",
       "<style scoped>\n",
       "    .dataframe tbody tr th:only-of-type {\n",
       "        vertical-align: middle;\n",
       "    }\n",
       "\n",
       "    .dataframe tbody tr th {\n",
       "        vertical-align: top;\n",
       "    }\n",
       "\n",
       "    .dataframe thead th {\n",
       "        text-align: right;\n",
       "    }\n",
       "</style>\n",
       "<table border=\"1\" class=\"dataframe\">\n",
       "  <thead>\n",
       "    <tr style=\"text-align: right;\">\n",
       "      <th></th>\n",
       "      <th>ID</th>\n",
       "      <th>F1</th>\n",
       "      <th>F2</th>\n",
       "      <th>F3</th>\n",
       "      <th>F4</th>\n",
       "      <th>F5</th>\n",
       "      <th>F6</th>\n",
       "      <th>F7</th>\n",
       "      <th>F8</th>\n",
       "      <th>F9</th>\n",
       "      <th>...</th>\n",
       "      <th>F29</th>\n",
       "      <th>F30</th>\n",
       "      <th>F31</th>\n",
       "      <th>F32</th>\n",
       "      <th>F33</th>\n",
       "      <th>F34</th>\n",
       "      <th>F35</th>\n",
       "      <th>F36</th>\n",
       "      <th>F37</th>\n",
       "      <th>F38</th>\n",
       "    </tr>\n",
       "  </thead>\n",
       "  <tbody>\n",
       "    <tr>\n",
       "      <th>0</th>\n",
       "      <td>1</td>\n",
       "      <td>weiblich</td>\n",
       "      <td>Ich bin single</td>\n",
       "      <td>Nein</td>\n",
       "      <td>12</td>\n",
       "      <td>Mit meiner Familie (Eltern, Partner*in und/ode...</td>\n",
       "      <td>keinen Schulabschluss</td>\n",
       "      <td>Ich bin Schüler(in)</td>\n",
       "      <td>Nein</td>\n",
       "      <td>NaN</td>\n",
       "      <td>...</td>\n",
       "      <td>Nein</td>\n",
       "      <td>6</td>\n",
       "      <td>Schüler</td>\n",
       "      <td>Nein</td>\n",
       "      <td>Ich koche überwiegend selbst</td>\n",
       "      <td>NaN</td>\n",
       "      <td>Schwierig</td>\n",
       "      <td>schlecht</td>\n",
       "      <td>YouTube;Facebook;Freundes/Familenkreis;</td>\n",
       "      <td>NaN</td>\n",
       "    </tr>\n",
       "    <tr>\n",
       "      <th>1</th>\n",
       "      <td>2</td>\n",
       "      <td>weiblich</td>\n",
       "      <td>Ich bin single</td>\n",
       "      <td>Nein</td>\n",
       "      <td>23</td>\n",
       "      <td>Mit meiner bzw. meiner (Ehe-)Partner/in (ohne ...</td>\n",
       "      <td>Studienabschluss</td>\n",
       "      <td>Ich bin Student(in)</td>\n",
       "      <td>Nein</td>\n",
       "      <td>NaN</td>\n",
       "      <td>...</td>\n",
       "      <td>Ja</td>\n",
       "      <td>5</td>\n",
       "      <td>NaN</td>\n",
       "      <td>Ja</td>\n",
       "      <td>Ich esse/koche überwiegend zu Hause</td>\n",
       "      <td>NaN</td>\n",
       "      <td>Schwierig</td>\n",
       "      <td>gut</td>\n",
       "      <td>Google;Freundes/Familenkreis;</td>\n",
       "      <td>NaN</td>\n",
       "    </tr>\n",
       "    <tr>\n",
       "      <th>2</th>\n",
       "      <td>3</td>\n",
       "      <td>weiblich</td>\n",
       "      <td>Ich bin single</td>\n",
       "      <td>Nein</td>\n",
       "      <td>23</td>\n",
       "      <td>Allein lebend</td>\n",
       "      <td>Studienabschluss</td>\n",
       "      <td>Ich bin Student(in)</td>\n",
       "      <td>Ja</td>\n",
       "      <td>Laktose</td>\n",
       "      <td>...</td>\n",
       "      <td>Nein</td>\n",
       "      <td>8</td>\n",
       "      <td>NaN</td>\n",
       "      <td>Ja</td>\n",
       "      <td>Ich esse/koche überwiegend zu Hause</td>\n",
       "      <td>NaN</td>\n",
       "      <td>Schwierig</td>\n",
       "      <td>gut</td>\n",
       "      <td>Google;</td>\n",
       "      <td>Hallo</td>\n",
       "    </tr>\n",
       "    <tr>\n",
       "      <th>3</th>\n",
       "      <td>4</td>\n",
       "      <td>weiblich</td>\n",
       "      <td>Ich bin in einer Partnerschaft/ Beziehung</td>\n",
       "      <td>Nein</td>\n",
       "      <td>23</td>\n",
       "      <td>Mit meiner bzw. meiner (Ehe-)Partner/in (ohne ...</td>\n",
       "      <td>Studienabschluss</td>\n",
       "      <td>Ich bin Student(in)</td>\n",
       "      <td>Nein</td>\n",
       "      <td>NaN</td>\n",
       "      <td>...</td>\n",
       "      <td>Ja</td>\n",
       "      <td>6</td>\n",
       "      <td>NaN</td>\n",
       "      <td>Ja</td>\n",
       "      <td>Ich esse/koche überwiegend zu Hause</td>\n",
       "      <td>NaN</td>\n",
       "      <td>Schwierig</td>\n",
       "      <td>gut</td>\n",
       "      <td>Google;Instagram;Freundes/Familenkreis;Zeitsch...</td>\n",
       "      <td>Eine App, die Zutaten, die man im Kühlschrank ...</td>\n",
       "    </tr>\n",
       "    <tr>\n",
       "      <th>4</th>\n",
       "      <td>5</td>\n",
       "      <td>männlich</td>\n",
       "      <td>Ich bin in einer Partnerschaft/ Beziehung</td>\n",
       "      <td>Nein</td>\n",
       "      <td>25</td>\n",
       "      <td>In einer Wohngemeinschaft</td>\n",
       "      <td>Studienabschluss</td>\n",
       "      <td>Ich bin Student(in)</td>\n",
       "      <td>Nein</td>\n",
       "      <td>NaN</td>\n",
       "      <td>...</td>\n",
       "      <td>Nein</td>\n",
       "      <td>4</td>\n",
       "      <td>NaN</td>\n",
       "      <td>Ja</td>\n",
       "      <td>Ich esse/koche überwiegend zu Hause</td>\n",
       "      <td>NaN</td>\n",
       "      <td>Schwierig</td>\n",
       "      <td>gut</td>\n",
       "      <td>Freundes/Familenkreis;</td>\n",
       "      <td>NaN</td>\n",
       "    </tr>\n",
       "  </tbody>\n",
       "</table>\n",
       "<p>5 rows × 39 columns</p>\n",
       "</div>"
      ],
      "text/plain": [
       "   ID        F1                                          F2    F3  F4  \\\n",
       "0   1  weiblich                              Ich bin single  Nein  12   \n",
       "1   2  weiblich                              Ich bin single  Nein  23   \n",
       "2   3  weiblich                              Ich bin single  Nein  23   \n",
       "3   4  weiblich  Ich bin in einer Partnerschaft/ Beziehung   Nein  23   \n",
       "4   5  männlich  Ich bin in einer Partnerschaft/ Beziehung   Nein  25   \n",
       "\n",
       "                                                  F5                     F6  \\\n",
       "0  Mit meiner Familie (Eltern, Partner*in und/ode...  keinen Schulabschluss   \n",
       "1  Mit meiner bzw. meiner (Ehe-)Partner/in (ohne ...      Studienabschluss    \n",
       "2                                      Allein lebend      Studienabschluss    \n",
       "3  Mit meiner bzw. meiner (Ehe-)Partner/in (ohne ...      Studienabschluss    \n",
       "4                          In einer Wohngemeinschaft      Studienabschluss    \n",
       "\n",
       "                    F7    F8       F9  ...   F29 F30      F31   F32  \\\n",
       "0  Ich bin Schüler(in)  Nein      NaN  ...  Nein   6  Schüler  Nein   \n",
       "1  Ich bin Student(in)  Nein      NaN  ...   Ja    5      NaN    Ja   \n",
       "2  Ich bin Student(in)    Ja  Laktose  ...  Nein   8      NaN    Ja   \n",
       "3  Ich bin Student(in)  Nein      NaN  ...   Ja    6      NaN    Ja   \n",
       "4  Ich bin Student(in)  Nein      NaN  ...  Nein   4      NaN    Ja   \n",
       "\n",
       "                                   F33 F34         F35       F36  \\\n",
       "0         Ich koche überwiegend selbst NaN  Schwierig   schlecht   \n",
       "1  Ich esse/koche überwiegend zu Hause NaN  Schwierig        gut   \n",
       "2  Ich esse/koche überwiegend zu Hause NaN  Schwierig        gut   \n",
       "3  Ich esse/koche überwiegend zu Hause NaN  Schwierig        gut   \n",
       "4  Ich esse/koche überwiegend zu Hause NaN  Schwierig        gut   \n",
       "\n",
       "                                                 F37  \\\n",
       "0            YouTube;Facebook;Freundes/Familenkreis;   \n",
       "1                      Google;Freundes/Familenkreis;   \n",
       "2                                            Google;   \n",
       "3  Google;Instagram;Freundes/Familenkreis;Zeitsch...   \n",
       "4                             Freundes/Familenkreis;   \n",
       "\n",
       "                                                 F38  \n",
       "0                                                NaN  \n",
       "1                                                NaN  \n",
       "2                                              Hallo  \n",
       "3  Eine App, die Zutaten, die man im Kühlschrank ...  \n",
       "4                                                NaN  \n",
       "\n",
       "[5 rows x 39 columns]"
      ]
     },
     "execution_count": 3,
     "metadata": {},
     "output_type": "execute_result"
    }
   ],
   "source": [
    "df.head()"
   ]
  },
  {
   "cell_type": "code",
   "execution_count": 5,
   "metadata": {},
   "outputs": [
    {
     "data": {
      "image/png": "[encoded data removed]",
      "text/plain": [
       "<Figure size 720x432 with 1 Axes>"
      ]
     },
     "metadata": {
      "needs_background": "light"
     },
     "output_type": "display_data"
    }
   ],
   "source": [
    "plt.figure(figsize=(10,6))\n",
    "plt.title(\"Altersverteilung\")\n",
    "sns.axes_style(\"dark\")\n",
    "sns.violinplot(y=df[\"F4\"])\n",
    "plt.show()"
   ]
  },
  {
   "cell_type": "code",
   "execution_count": 6,
   "metadata": {},
   "outputs": [
    {
     "data": {
      "image/png": "[encoded data removed]",
      "text/plain": [
       "<Figure size 720x288 with 1 Axes>"
      ]
     },
     "metadata": {},
     "output_type": "display_data"
    }
   ],
   "source": [
    "genders = df[df.columns[0]].value_counts()\n",
    "sns.set_style(\"darkgrid\")\n",
    "plt.figure(figsize=(10,4))\n",
    "sns.barplot(x=genders.index, y=genders.values)\n",
    "plt.show()"
   ]
  },
  {
   "cell_type": "code",
   "execution_count": 20,
   "metadata": {},
   "outputs": [
    {
     "name": "stdout",
     "output_type": "stream",
     "text": [
      "F1\n",
      "männlich    68\n",
      "weiblich    96\n",
      "Name: ID, dtype: int64\n"
     ]
    }
   ],
   "source": [
    "#Geschlecht\n",
    "print(df.groupby('F1')['ID'].nunique())\n"
   ]
  },
  {
   "cell_type": "code",
   "execution_count": 22,
   "metadata": {
    "scrolled": true
   },
   "outputs": [
    {
     "name": "stdout",
     "output_type": "stream",
     "text": [
      "count    165.000000\n",
      "mean      28.266667\n",
      "std       10.876319\n",
      "min       12.000000\n",
      "25%       23.000000\n",
      "50%       25.000000\n",
      "75%       28.000000\n",
      "max       61.000000\n",
      "Name: F4, dtype: float64\n"
     ]
    }
   ],
   "source": [
    "#Alter\n",
    "print(df[\"F4\"].describe())"
   ]
  },
  {
   "cell_type": "code",
   "execution_count": 26,
   "metadata": {},
   "outputs": [
    {
     "name": "stdout",
     "output_type": "stream",
     "text": [
      "F31\n",
      "Accounting Manager                          1\n",
      "Angestellte                                 1\n",
      "Angestellter im Versicherungsinnendienst    1\n",
      "Beamter                                     1\n",
      "Beamtin                                     1\n",
      "                                           ..\n",
      "Verwaltungsangestellte                      1\n",
      "Wirtschaftsinformatiker                     1\n",
      "Wissenschaftlicher Mitarbeiter (Uni)        1\n",
      "Zahnmedizinische Fachangestellte            1\n",
      "Übersetzer                                  1\n",
      "Name: ID, Length: 64, dtype: int64\n"
     ]
    }
   ],
   "source": [
    "df_berufe = df.groupby('F31')['ID'].nunique()\n",
    "print(df_berufe)\n",
    "df_berufe.to_csv(\"Berufe_Liste.csv\")"
   ]
  },
  {
   "cell_type": "code",
   "execution_count": 27,
   "metadata": {},
   "outputs": [
    {
     "name": "stdout",
     "output_type": "stream",
     "text": [
      "F9\n",
      " Laktoseintoleranz                                                         1\n",
      "Alle                                                                       1\n",
      "Allergie gegen Hausstaub, div. Bäume, Gräser und Kräuter                   1\n",
      "Asthma, Laktoseintoleranz                                                  1\n",
      "Colitis ulcerosa (Darmerkrakung)                                           1\n",
      "Erdnuss                                                                    1\n",
      "Fructose                                                                   1\n",
      "Fructoseintoleranz                                                         1\n",
      "Fruktose Intoleranz                                                        1\n",
      "Fruktoseintoleranz                                                         1\n",
      "Gräser                                                                     1\n",
      "Gräser und Getreide                                                        1\n",
      "Hashimoto                                                                  1\n",
      "Hashimoto Thyreoiditis, Laktose-/Fructose-/Sorbitmalabsorption             1\n",
      "Heuschnupfen, Bluthochdruck, Blutverdünner                                 1\n",
      "Heuschnupfen, Walnüsse, Äpfel                                              1\n",
      "Histamin                                                                   1\n",
      "Laktose                                                                    2\n",
      "Laktose Intoleranz                                                         1\n",
      "Laktose intolerant                                                         1\n",
      "Laktose- , Fructoseunverträglichkeit                                       1\n",
      "Laktoseintoleranz                                                          3\n",
      "Laktoseintoleranz                                                          1\n",
      "Laktoseintoleranz, Kreuzallergie (Äpfel)                                   1\n",
      "Laktoseintolleranz                                                         2\n",
      "Laktoseunverträglichkeit                                                   2\n",
      "Lebensmittel                                                               1\n",
      "Leichte Laktoseunverträglichkeit                                           1\n",
      "Leichte Unverträglichkeit von Milchprodukten                               1\n",
      "Leukopenie                                                                 1\n",
      "Magenschmerzen                                                             1\n",
      "Nope                                                                       1\n",
      "Nuss                                                                       1\n",
      "Nuss, soja                                                                 1\n",
      "Nussallergie                                                               1\n",
      "Nüsse, Paprika                                                             1\n",
      "Pilzeiweiß, Gluten?                                                        1\n",
      "Pollen, Kernobst                                                           1\n",
      "Pollenallergie                                                             1\n",
      "Rheuma                                                                     1\n",
      "Schilddrüsenunterfunktion                                                  1\n",
      "Senf, Meerrettich, Kohl, Nüsse Allergie.                                   1\n",
      "Sorbit, Laktose Intoleranz                                                 1\n",
      "Teilweise Laktose                                                          1\n",
      "Unverträglichkeiten bei Konservierungsstoffen und Geschmacksverstärkern    1\n",
      "Name: ID, dtype: int64\n"
     ]
    }
   ],
   "source": [
    "df_intoleranz = df.groupby('F9')['ID'].nunique()\n",
    "print(df_intoleranz)\n",
    "df_intoleranz.to_csv(\"Intoleranz_Liste.csv\")"
   ]
  },
  {
   "cell_type": "code",
   "execution_count": 29,
   "metadata": {},
   "outputs": [
    {
     "data": {
      "text/plain": [
       "<AxesSubplot:xlabel='F4'>"
      ]
     },
     "execution_count": 29,
     "metadata": {},
     "output_type": "execute_result"
    },
    {
     "data": {
      "image/png": "[encoded data removed]",
      "text/plain": [
       "<Figure size 432x288 with 1 Axes>"
      ]
     },
     "metadata": {},
     "output_type": "display_data"
    }
   ],
   "source": [
    "df_app=df.groupby(['F4','F21']).size()\n",
    "df_app=df_app.unstack()\n",
    "df_app.plot(kind='bar')"
   ]
  },
  {
   "cell_type": "code",
   "execution_count": 43,
   "metadata": {
    "scrolled": false
   },
   "outputs": [
    {
     "name": "stdout",
     "output_type": "stream",
     "text": [
      "0      bis18\n",
      "1      19-26\n",
      "2      19-26\n",
      "3      19-26\n",
      "4      19-26\n",
      "       ...  \n",
      "160    41-61\n",
      "161    19-26\n",
      "162    19-26\n",
      "163    27-30\n",
      "164    27-30\n",
      "Name: Altersgruppe, Length: 165, dtype: category\n",
      "Categories (5, object): ['bis18' < '19-26' < '27-30' < '31-40' < '41-61']\n"
     ]
    }
   ],
   "source": [
    "bins= [0,18,26,30,40,60]\n",
    "labels = ['bis18','19-26','27-30','31-40','41-61']\n",
    "df['Altersgruppe'] = pd.cut(df['F4'], bins=bins, labels=labels, right=False)\n",
    "print (df['Altersgruppe'])\n"
   ]
  },
  {
   "cell_type": "code",
   "execution_count": 44,
   "metadata": {},
   "outputs": [
    {
     "data": {
      "text/plain": [
       "<AxesSubplot:xlabel='Altersgruppe'>"
      ]
     },
     "execution_count": 44,
     "metadata": {},
     "output_type": "execute_result"
    },
    {
     "data": {
      "image/png": "[encoded data removed]",
      "text/plain": [
       "<Figure size 432x288 with 1 Axes>"
      ]
     },
     "metadata": {},
     "output_type": "display_data"
    }
   ],
   "source": [
    "df=df.groupby(['Altersgruppe','F21']).size()\n",
    "df_app=df_app.unstack()\n",
    "df_app.plot(kind='bar')"
   ]
  },
  {
   "cell_type": "code",
   "execution_count": 48,
   "metadata": {},
   "outputs": [
    {
     "data": {
      "text/plain": [
       "<AxesSubplot:xlabel='Altersgruppe'>"
      ]
     },
     "execution_count": 48,
     "metadata": {},
     "output_type": "execute_result"
    },
    {
     "data": {
      "image/png": "[encoded data removed]",
      "text/plain": [
       "<Figure size 432x288 with 1 Axes>"
      ]
     },
     "metadata": {},
     "output_type": "display_data"
    }
   ],
   "source": [
    "#Regional\n",
    "df_regional=df.groupby(['Altersgruppe','F13']).size()\n",
    "df_regional=df_regional.unstack()\n",
    "df_regional.plot(kind='bar')"
   ]
  },
  {
   "cell_type": "code",
   "execution_count": 59,
   "metadata": {},
   "outputs": [
    {
     "name": "stdout",
     "output_type": "stream",
     "text": [
      "              count      mean       std  min  25%  50%   75%   max\n",
      "Altersgruppe                                                      \n",
      "bis18          11.0  0.454545  0.687552  0.0  0.0  0.0   1.0   2.0\n",
      "19-26          11.0  8.363636  8.225238  1.0  2.0  3.0  16.0  23.0\n",
      "27-30          11.0  3.090909  2.211540  0.0  1.5  3.0   4.5   7.0\n",
      "31-40          11.0  1.090909  1.221028  0.0  0.0  1.0   2.0   3.0\n",
      "41-61          11.0  1.909091  1.972539  0.0  0.5  1.0   3.5   5.0\n"
     ]
    }
   ],
   "source": [
    "#Regional\n",
    "print(df_regional.apply(pd.Series.describe, axis=1))\n"
   ]
  },
  {
   "cell_type": "code",
   "execution_count": 61,
   "metadata": {},
   "outputs": [
    {
     "data": {
      "text/plain": [
       "<AxesSubplot:xlabel='Altersgruppe'>"
      ]
     },
     "execution_count": 61,
     "metadata": {},
     "output_type": "execute_result"
    },
    {
     "data": {
      "image/png": "[encoded data removed]",
      "text/plain": [
       "<Figure size 432x288 with 1 Axes>"
      ]
     },
     "metadata": {},
     "output_type": "display_data"
    }
   ],
   "source": [
    "#Bio\n",
    "df_bio=df.groupby(['Altersgruppe','F14']).size()\n",
    "df_bio=df_bio.unstack()\n",
    "df_bio.plot(kind='bar')"
   ]
  },
  {
   "cell_type": "code",
   "execution_count": 62,
   "metadata": {},
   "outputs": [
    {
     "name": "stdout",
     "output_type": "stream",
     "text": [
      "              count      mean       std  min  25%   50%   75%   max\n",
      "Altersgruppe                                                       \n",
      "bis18          11.0  0.454545  0.687552  0.0  0.0   0.0   1.0   2.0\n",
      "19-26          11.0  8.363636  5.801254  1.0  2.5  10.0  12.0  18.0\n",
      "27-30          11.0  3.090909  2.211540  0.0  2.0   2.0   3.5   8.0\n",
      "31-40          11.0  1.090909  1.513575  0.0  0.0   1.0   1.5   5.0\n",
      "41-61          11.0  1.909091  1.640399  0.0  0.5   2.0   3.5   4.0\n"
     ]
    }
   ],
   "source": [
    "#Bio\n",
    "print(df_bio.apply(pd.Series.describe, axis=1))"
   ]
  },
  {
   "cell_type": "code",
   "execution_count": 64,
   "metadata": {},
   "outputs": [
    {
     "data": {
      "text/plain": [
       "<AxesSubplot:xlabel='Altersgruppe'>"
      ]
     },
     "execution_count": 64,
     "metadata": {},
     "output_type": "execute_result"
    },
    {
     "data": {
      "image/png": "[encoded data removed]",
      "text/plain": [
       "<Figure size 432x288 with 1 Axes>"
      ]
     },
     "metadata": {},
     "output_type": "display_data"
    }
   ],
   "source": [
    "#Fairtrade\n",
    "df_fair=df.groupby(['Altersgruppe','F16']).size()\n",
    "df_fair=df_fair.unstack()\n",
    "df_fair.plot(kind='bar')"
   ]
  },
  {
   "cell_type": "code",
   "execution_count": 65,
   "metadata": {},
   "outputs": [
    {
     "name": "stdout",
     "output_type": "stream",
     "text": [
      "              count      mean       std  min  25%  50%   75%   max\n",
      "Altersgruppe                                                      \n",
      "bis18          11.0  0.454545  0.687552  0.0  0.0  0.0   1.0   2.0\n",
      "19-26          11.0  8.363636  6.697354  1.0  3.5  7.0  11.5  23.0\n",
      "27-30          11.0  3.090909  1.972539  1.0  1.5  3.0   3.5   7.0\n",
      "31-40          11.0  1.090909  0.943880  0.0  0.0  1.0   2.0   2.0\n",
      "41-61          11.0  1.909091  1.375103  0.0  1.0  2.0   3.0   4.0\n"
     ]
    }
   ],
   "source": [
    "#Fairtrade\n",
    "print(df_fair.apply(pd.Series.describe, axis=1))"
   ]
  },
  {
   "cell_type": "code",
   "execution_count": 70,
   "metadata": {},
   "outputs": [
    {
     "data": {
      "text/plain": [
       "<AxesSubplot:xlabel='Altersgruppe'>"
      ]
     },
     "execution_count": 70,
     "metadata": {},
     "output_type": "execute_result"
    },
    {
     "data": {
      "image/png": "[encoded data removed]",
      "text/plain": [
       "<Figure size 432x288 with 1 Axes>"
      ]
     },
     "metadata": {},
     "output_type": "display_data"
    }
   ],
   "source": [
    "#Wichtigkeit eigene Gesundheit\n",
    "df_gesundheit=df.groupby(['Altersgruppe','F16']).size()\n",
    "df_gesundheit=df_gesundheit.unstack()\n",
    "df_gesundheit.plot(kind='bar')"
   ]
  },
  {
   "cell_type": "code",
   "execution_count": 79,
   "metadata": {},
   "outputs": [
    {
     "name": "stdout",
     "output_type": "stream",
     "text": [
      "              count      mean       std  min  25%  50%   75%   max\n",
      "Altersgruppe                                                      \n",
      "bis18          11.0  0.454545  0.687552  0.0  0.0  0.0   1.0   2.0\n",
      "19-26          11.0  8.363636  6.697354  1.0  3.5  7.0  11.5  23.0\n",
      "27-30          11.0  3.090909  1.972539  1.0  1.5  3.0   3.5   7.0\n",
      "31-40          11.0  1.090909  0.943880  0.0  0.0  1.0   2.0   2.0\n",
      "41-61          11.0  1.909091  1.375103  0.0  1.0  2.0   3.0   4.0\n"
     ]
    }
   ],
   "source": [
    "#Wichtigkeit eigene Gesundheit\n",
    "print(df_gesundheit.apply(pd.Series.describe, axis=1))"
   ]
  },
  {
   "cell_type": "code",
   "execution_count": 81,
   "metadata": {},
   "outputs": [
    {
     "data": {
      "text/plain": [
       "<AxesSubplot:xlabel='Altersgruppe'>"
      ]
     },
     "execution_count": 81,
     "metadata": {},
     "output_type": "execute_result"
    },
    {
     "data": {
      "image/png": "[encoded data removed]",
      "text/plain": [
       "<Figure size 432x288 with 1 Axes>"
      ]
     },
     "metadata": {},
     "output_type": "display_data"
    }
   ],
   "source": [
    "#Wichtigkeit Fitness und das eigene Körpergewicht\n",
    "df_fit=df.groupby(['Altersgruppe','F18']).size()\n",
    "df_fit=df_fit.unstack()\n",
    "df_fit.plot(kind='bar')"
   ]
  },
  {
   "cell_type": "code",
   "execution_count": 82,
   "metadata": {},
   "outputs": [
    {
     "name": "stdout",
     "output_type": "stream",
     "text": [
      "              count       mean       std  min  25%   50%   75%   max\n",
      "Altersgruppe                                                        \n",
      "bis18           9.0   0.555556  0.726483  0.0  0.0   0.0   1.0   2.0\n",
      "19-26           9.0  10.222222  7.579211  0.0  3.0  10.0  17.0  20.0\n",
      "27-30           9.0   3.777778  3.153481  0.0  0.0   4.0   7.0   7.0\n",
      "31-40           9.0   1.333333  1.732051  0.0  0.0   1.0   2.0   5.0\n",
      "41-61           9.0   2.333333  1.802776  0.0  1.0   2.0   3.0   6.0\n"
     ]
    }
   ],
   "source": [
    "#Wichtigkeit eigene Fitness\n",
    "print(df_fit.apply(pd.Series.describe, axis=1))"
   ]
  },
  {
   "cell_type": "code",
   "execution_count": 83,
   "metadata": {},
   "outputs": [
    {
     "name": "stdout",
     "output_type": "stream",
     "text": [
      "0                                                    app\n",
      "1                                                   Nike\n",
      "2                                                    123\n",
      "3                               Nike, Yazio, Springlane \n",
      "4                                                  Keine\n",
      "                             ...                        \n",
      "160    Keine. Und ich habe auch nicht vor jemals so e...\n",
      "161    Chefkoch, Kitchen Stories Rezepte, Bauchmuskel...\n",
      "162                                                Keine\n",
      "163                                   manchmal Runtastic\n",
      "164                                                keine\n",
      "Name: F24, Length: 165, dtype: object\n"
     ]
    }
   ],
   "source": [
    "print(df['F24'])"
   ]
  },
  {
   "cell_type": "code",
   "execution_count": 85,
   "metadata": {},
   "outputs": [],
   "source": [
    "df_used_apps = df.drop(df[df.F24 == \"keine\"].index)\n",
    "df_used_apps = df.drop(df[df.F24 == \"\"].index)\n"
   ]
  },
  {
   "cell_type": "code",
   "execution_count": 86,
   "metadata": {},
   "outputs": [
    {
     "name": "stdout",
     "output_type": "stream",
     "text": [
      "F24\n",
      "\"Frag Ingrid\": App zum Thema Nahrungsmittel-Verträglichkeit bei Intoleranzen    1\n",
      "-                                                                               6\n",
      "--                                                                              1\n",
      "/                                                                               1\n",
      "123                                                                             1\n",
      "                                                                               ..\n",
      "health iphone                                                                   1\n",
      "keine                                                                           8\n",
      "keine                                                                           1\n",
      "manchmal Runtastic                                                              1\n",
      "mii                                                                             1\n",
      "Name: ID, Length: 112, dtype: int64\n"
     ]
    }
   ],
   "source": [
    "df_used_apps = df.groupby('F24')['ID'].nunique()\n",
    "print(df_used_apps)\n",
    "df_used_apps.to_csv(\"Used_Apps_Liste.csv\")"
   ]
  },
  {
   "cell_type": "code",
   "execution_count": 91,
   "metadata": {},
   "outputs": [
    {
     "data": {
      "text/plain": [
       "<AxesSubplot:xlabel='Altersgruppe'>"
      ]
     },
     "execution_count": 91,
     "metadata": {},
     "output_type": "execute_result"
    },
    {
     "data": {
      "image/png": "[encoded data removed]",
      "text/plain": [
       "<Figure size 432x288 with 1 Axes>"
      ]
     },
     "metadata": {},
     "output_type": "display_data"
    }
   ],
   "source": [
    "#Wearable\n",
    "df_wear=df.groupby(['Altersgruppe','F25']).size()\n",
    "df_wear=df_wear.unstack()\n",
    "df_wear.plot(kind='bar')"
   ]
  },
  {
   "cell_type": "code",
   "execution_count": 93,
   "metadata": {},
   "outputs": [
    {
     "data": {
      "text/plain": [
       "<AxesSubplot:xlabel='Altersgruppe'>"
      ]
     },
     "execution_count": 93,
     "metadata": {},
     "output_type": "execute_result"
    },
    {
     "data": {
      "image/png": "[encoded data removed]",
      "text/plain": [
       "<Figure size 432x288 with 1 Axes>"
      ]
     },
     "metadata": {},
     "output_type": "display_data"
    }
   ],
   "source": [
    "#Wichtigkeit der Marke\n",
    "df_brand=df.groupby(['Altersgruppe','F30']).size()\n",
    "df_brand=df_brand.unstack()\n",
    "df_brand.plot(kind='bar')"
   ]
  },
  {
   "cell_type": "code",
   "execution_count": 94,
   "metadata": {},
   "outputs": [
    {
     "name": "stdout",
     "output_type": "stream",
     "text": [
      "              count      mean       std  min  25%  50%   75%   max\n",
      "Altersgruppe                                                      \n",
      "bis18          11.0  0.454545  0.522233  0.0  0.0  0.0   1.0   1.0\n",
      "19-26          11.0  8.363636  5.536655  0.0  5.0  9.0  12.0  17.0\n",
      "27-30          11.0  3.090909  3.144982  0.0  0.5  2.0   5.0   9.0\n",
      "31-40          11.0  1.090909  1.221028  0.0  0.0  1.0   1.5   4.0\n",
      "41-61          11.0  1.909091  1.972539  0.0  1.0  1.0   2.5   7.0\n"
     ]
    }
   ],
   "source": [
    "#Wichtigkeit der Marke\n",
    "print(df_brand.apply(pd.Series.describe, axis=1))"
   ]
  },
  {
   "cell_type": "code",
   "execution_count": 95,
   "metadata": {},
   "outputs": [
    {
     "data": {
      "text/plain": [
       "<AxesSubplot:xlabel='Altersgruppe'>"
      ]
     },
     "execution_count": 95,
     "metadata": {},
     "output_type": "execute_result"
    },
    {
     "data": {
      "image/png": "[encoded data removed]",
      "text/plain": [
       "<Figure size 432x288 with 1 Axes>"
      ]
     },
     "metadata": {},
     "output_type": "display_data"
    }
   ],
   "source": [
    "#Erhalt der Umwelt\n",
    "df_environment=df.groupby(['Altersgruppe','F26']).size()\n",
    "df_environment=df_environment.unstack()\n",
    "df_environment.plot(kind='bar')"
   ]
  },
  {
   "cell_type": "code",
   "execution_count": 96,
   "metadata": {},
   "outputs": [
    {
     "name": "stdout",
     "output_type": "stream",
     "text": [
      "              count      mean       std  min  25%  50%   75%   max\n",
      "Altersgruppe                                                      \n",
      "bis18          11.0  0.454545  0.687552  0.0  0.0  0.0   1.0   2.0\n",
      "19-26          11.0  8.363636  8.405626  0.0  1.5  6.0  16.0  23.0\n",
      "27-30          11.0  3.090909  2.913916  0.0  1.0  3.0   4.5   8.0\n",
      "31-40          11.0  1.090909  1.814086  0.0  0.0  0.0   1.5   6.0\n",
      "41-61          11.0  1.909091  2.022600  0.0  0.5  1.0   2.5   6.0\n"
     ]
    }
   ],
   "source": [
    "#Erhalt der Umwelt\n",
    "print(df_environment.apply(pd.Series.describe, axis=1))"
   ]
  },
  {
   "cell_type": "code",
   "execution_count": 98,
   "metadata": {},
   "outputs": [
    {
     "data": {
      "text/plain": [
       "<AxesSubplot:xlabel='Altersgruppe'>"
      ]
     },
     "execution_count": 98,
     "metadata": {},
     "output_type": "execute_result"
    },
    {
     "data": {
      "image/png": "[encoded data removed]",
      "text/plain": [
       "<Figure size 432x288 with 1 Axes>"
      ]
     },
     "metadata": {},
     "output_type": "display_data"
    }
   ],
   "source": [
    "#Nachhaltigkeit einer Firma\n",
    "df_sus=df.groupby(['Altersgruppe','F27']).size()\n",
    "df_sus=df_sus.unstack()\n",
    "df_sus.plot(kind='bar')"
   ]
  },
  {
   "cell_type": "code",
   "execution_count": 99,
   "metadata": {},
   "outputs": [
    {
     "name": "stdout",
     "output_type": "stream",
     "text": [
      "              count      mean       std  min  25%  50%   75%   max\n",
      "Altersgruppe                                                      \n",
      "bis18          11.0  0.454545  0.934199  0.0  0.0  0.0   0.5   3.0\n",
      "19-26          11.0  8.363636  6.328866  1.0  3.5  7.0  10.5  20.0\n",
      "27-30          11.0  3.090909  3.080732  0.0  1.0  1.0   4.5   9.0\n",
      "31-40          11.0  1.090909  1.445998  0.0  0.0  0.0   2.0   4.0\n",
      "41-61          11.0  1.909091  2.071451  0.0  0.0  1.0   3.5   6.0\n"
     ]
    }
   ],
   "source": [
    "#Nachhaltigkeit einer Firma\n",
    "print(df_sus.apply(pd.Series.describe, axis=1))"
   ]
  },
  {
   "cell_type": "code",
   "execution_count": null,
   "metadata": {},
   "outputs": [],
   "source": []
  }
 ],
 "metadata": {
  "kernelspec": {
   "display_name": "Python 3",
   "language": "python",
   "name": "python3"
  },
  "language_info": {
   "codemirror_mode": {
    "name": "ipython",
    "version": 3
   },
   "file_extension": ".py",
   "mimetype": "text/x-python",
   "name": "python",
   "nbconvert_exporter": "python",
   "pygments_lexer": "ipython3",
   "version": "3.8.5"
  }
 },
 "nbformat": 4,
 "nbformat_minor": 4
}
